{
 "cells": [
  {
   "cell_type": "markdown",
   "metadata": {
    "slideshow": {
     "slide_type": "slide"
    }
   },
   "source": [
    "# Julia 超新手教學 III part 2\n",
    "\n",
    "**by 杜岳華**"
   ]
  },
  {
   "cell_type": "markdown",
   "metadata": {
    "slideshow": {
     "slide_type": "slide"
    }
   },
   "source": [
    "# Outline\n",
    "\n",
    "* define methods\n",
    "* method ambiguity\n",
    "* parametric method\n",
    "* empty generic function"
   ]
  },
  {
   "cell_type": "markdown",
   "metadata": {
    "slideshow": {
     "slide_type": "slide"
    }
   },
   "source": [
    "## Define methods"
   ]
  },
  {
   "cell_type": "code",
   "execution_count": 1,
   "metadata": {
    "slideshow": {
     "slide_type": "fragment"
    }
   },
   "outputs": [
    {
     "data": {
      "text/plain": [
       "f (generic function with 1 method)"
      ]
     },
     "execution_count": 1,
     "metadata": {},
     "output_type": "execute_result"
    }
   ],
   "source": [
    "f(x::Float64, y::Float64) = 2x + y"
   ]
  },
  {
   "cell_type": "code",
   "execution_count": 2,
   "metadata": {
    "slideshow": {
     "slide_type": "fragment"
    }
   },
   "outputs": [
    {
     "data": {
      "text/plain": [
       "7.0"
      ]
     },
     "execution_count": 2,
     "metadata": {},
     "output_type": "execute_result"
    }
   ],
   "source": [
    "f(2.0, 3.0)"
   ]
  },
  {
   "cell_type": "markdown",
   "metadata": {
    "slideshow": {
     "slide_type": "fragment"
    }
   },
   "source": [
    "看起來不就跟function一樣嗎？"
   ]
  },
  {
   "cell_type": "markdown",
   "metadata": {
    "slideshow": {
     "slide_type": "slide"
    }
   },
   "source": [
    "### Function與method的差別"
   ]
  },
  {
   "cell_type": "code",
   "execution_count": 3,
   "metadata": {},
   "outputs": [
    {
     "data": {
      "text/plain": [
       "1.0"
      ]
     },
     "execution_count": 3,
     "metadata": {},
     "output_type": "execute_result"
    }
   ],
   "source": [
    "f(x::Number, y::Number) = 2x - y\n",
    "f(2.0, 3)"
   ]
  },
  {
   "cell_type": "markdown",
   "metadata": {
    "slideshow": {
     "slide_type": "fragment"
    }
   },
   "source": [
    "你會發現Julia幫`f(Float64, Int64)`這樣的組合挑選了`f(Number, Number)`這個method"
   ]
  },
  {
   "cell_type": "code",
   "execution_count": 4,
   "metadata": {
    "slideshow": {
     "slide_type": "fragment"
    }
   },
   "outputs": [
    {
     "data": {
      "text/html": [
       "2 methods for generic function <b>f</b>:<ul><li> f(x::<b>Float64</b>, y::<b>Float64</b>) in Main at In[1]:1</li> <li> f(x::<b>Number</b>, y::<b>Number</b>) in Main at In[3]:1</li> </ul>"
      ],
      "text/plain": [
       "# 2 methods for generic function \"f\":\n",
       "[1] f(x::Float64, y::Float64) in Main at In[1]:1\n",
       "[2] f(x::Number, y::Number) in Main at In[3]:1"
      ]
     },
     "execution_count": 4,
     "metadata": {},
     "output_type": "execute_result"
    }
   ],
   "source": [
    "methods(f)  # 你可以查詢目前這個函式名稱有多少種實作"
   ]
  },
  {
   "cell_type": "markdown",
   "metadata": {
    "slideshow": {
     "slide_type": "fragment"
    }
   },
   "source": [
    "在 Julia，function 指的是`f`，這個**介面**\n",
    "\n",
    "Method 指的則是`f(x::Number, y::Number) = 2x - y`，這個**實作**"
   ]
  },
  {
   "cell_type": "markdown",
   "metadata": {
    "slideshow": {
     "slide_type": "slide"
    }
   },
   "source": [
    "## 介面與實作"
   ]
  },
  {
   "cell_type": "markdown",
   "metadata": {},
   "source": [
    "#### *介面*\n",
    "\n",
    "`fly`\n",
    "\n",
    "#### *實作*\n",
    "\n",
    "`fly(bird::Bird) = println(\"Bird flies.\")`\n",
    "\n",
    "`fly(airplane::Airplane) = println(\"Airplane flies.\")`"
   ]
  },
  {
   "cell_type": "markdown",
   "metadata": {
    "slideshow": {
     "slide_type": "fragment"
    }
   },
   "source": [
    "程式語言，如同人類的自然語言一樣，對應不同的**情境**，同一個詞有不同意思。\n",
    "\n",
    "最多變的會是**行為**\n",
    "\n",
    "為了對應不同的情境，可能有不同版本的實作"
   ]
  },
  {
   "cell_type": "markdown",
   "metadata": {
    "slideshow": {
     "slide_type": "slide"
    }
   },
   "source": [
    "## 多重分派（Multiple dispatch）"
   ]
  },
  {
   "cell_type": "markdown",
   "metadata": {
    "slideshow": {
     "slide_type": "-"
    }
   },
   "source": [
    "### 對程式語言來說，他要如何決定要使用哪一個function的實作版本？"
   ]
  },
  {
   "cell_type": "markdown",
   "metadata": {},
   "source": [
    "<img src=\"/pics/multiple_dispatch.svg\" style=\"width:300px;\"/>"
   ]
  },
  {
   "cell_type": "markdown",
   "metadata": {
    "slideshow": {
     "slide_type": "fragment"
    }
   },
   "source": [
    "在Julia中，如果有很多個相同名字的methods的話，要決定用哪一個呢？\n",
    "\n",
    "Julia會依據**參數的數量**跟**method中所有型別種類**決定要挑哪一個method出來執行\n",
    "\n",
    "使用**method中所有型別種類**決定要執行哪一個method，這樣的方法稱為multiple dispatch"
   ]
  },
  {
   "cell_type": "markdown",
   "metadata": {
    "slideshow": {
     "slide_type": "slide"
    }
   },
   "source": [
    "## Method ambiguity"
   ]
  },
  {
   "cell_type": "code",
   "execution_count": 5,
   "metadata": {},
   "outputs": [
    {
     "data": {
      "text/plain": [
       "g (generic function with 1 method)"
      ]
     },
     "execution_count": 5,
     "metadata": {},
     "output_type": "execute_result"
    }
   ],
   "source": [
    "g(x::Float64, y) = 2x + y"
   ]
  },
  {
   "cell_type": "code",
   "execution_count": 6,
   "metadata": {},
   "outputs": [
    {
     "data": {
      "text/plain": [
       "g (generic function with 2 methods)"
      ]
     },
     "execution_count": 6,
     "metadata": {},
     "output_type": "execute_result"
    }
   ],
   "source": [
    "g(x, y::Float64) = x + 2y"
   ]
  },
  {
   "cell_type": "code",
   "execution_count": 7,
   "metadata": {
    "slideshow": {
     "slide_type": "fragment"
    }
   },
   "outputs": [
    {
     "ename": "MethodError",
     "evalue": "MethodError: g(::Float64, ::Float64) is ambiguous. Candidates:\n  g(x, y::Float64) in Main at In[6]:1\n  g(x::Float64, y) in Main at In[5]:1\nPossible fix, define\n  g(::Float64, ::Float64)",
     "output_type": "error",
     "traceback": [
      "MethodError: g(::Float64, ::Float64) is ambiguous. Candidates:\n  g(x, y::Float64) in Main at In[6]:1\n  g(x::Float64, y) in Main at In[5]:1\nPossible fix, define\n  g(::Float64, ::Float64)",
      "",
      "Stacktrace:",
      " [1] top-level scope at In[7]:1"
     ]
    }
   ],
   "source": [
    "g(3.0, 4.0)"
   ]
  },
  {
   "cell_type": "markdown",
   "metadata": {
    "slideshow": {
     "slide_type": "fragment"
    }
   },
   "source": [
    "這樣的定義會造成語意不清，`g(Float64, Float64)`要執行哪一條呢"
   ]
  },
  {
   "cell_type": "markdown",
   "metadata": {
    "slideshow": {
     "slide_type": "slide"
    }
   },
   "source": [
    "### 由精確到廣義的定義順序是很棒的方式"
   ]
  },
  {
   "cell_type": "code",
   "execution_count": 8,
   "metadata": {},
   "outputs": [
    {
     "data": {
      "text/plain": [
       "g (generic function with 3 methods)"
      ]
     },
     "execution_count": 8,
     "metadata": {},
     "output_type": "execute_result"
    }
   ],
   "source": [
    "g(x::Float64, y::Float64) = 2x + 2y\n",
    "g(x::Float64, y) = 2x + y\n",
    "g(x, y::Float64) = x + 2y"
   ]
  },
  {
   "cell_type": "code",
   "execution_count": 9,
   "metadata": {
    "slideshow": {
     "slide_type": "fragment"
    }
   },
   "outputs": [
    {
     "data": {
      "text/plain": [
       "7.0"
      ]
     },
     "execution_count": 9,
     "metadata": {},
     "output_type": "execute_result"
    }
   ],
   "source": [
    "g(2.0, 3)"
   ]
  },
  {
   "cell_type": "code",
   "execution_count": 10,
   "metadata": {
    "slideshow": {
     "slide_type": "fragment"
    }
   },
   "outputs": [
    {
     "data": {
      "text/plain": [
       "8.0"
      ]
     },
     "execution_count": 10,
     "metadata": {},
     "output_type": "execute_result"
    }
   ],
   "source": [
    "g(2, 3.0)"
   ]
  },
  {
   "cell_type": "code",
   "execution_count": 11,
   "metadata": {
    "slideshow": {
     "slide_type": "fragment"
    }
   },
   "outputs": [
    {
     "data": {
      "text/plain": [
       "10.0"
      ]
     },
     "execution_count": 11,
     "metadata": {},
     "output_type": "execute_result"
    }
   ],
   "source": [
    "g(2.0, 3.0)"
   ]
  },
  {
   "cell_type": "markdown",
   "metadata": {
    "slideshow": {
     "slide_type": "slide"
    }
   },
   "source": [
    "### Example: replace if-else by dispatching"
   ]
  },
  {
   "cell_type": "code",
   "execution_count": 12,
   "metadata": {},
   "outputs": [],
   "source": [
    "xs = [\"123\", [\"23\", \"345\"], [\"1234\", \"456\", \"789\"], \"567\"]\n",
    "collections = []\n",
    "for x in xs\n",
    "    if x isa String\n",
    "        push!(collections, x)\n",
    "    elseif x isa Vector\n",
    "        append!(collections, x)\n",
    "    end\n",
    "end"
   ]
  },
  {
   "cell_type": "code",
   "execution_count": 13,
   "metadata": {
    "slideshow": {
     "slide_type": "fragment"
    }
   },
   "outputs": [
    {
     "data": {
      "text/plain": [
       "7-element Array{Any,1}:\n",
       " \"123\" \n",
       " \"23\"  \n",
       " \"345\" \n",
       " \"1234\"\n",
       " \"456\" \n",
       " \"789\" \n",
       " \"567\" "
      ]
     },
     "execution_count": 13,
     "metadata": {},
     "output_type": "execute_result"
    }
   ],
   "source": [
    "collections"
   ]
  },
  {
   "cell_type": "code",
   "execution_count": 14,
   "metadata": {
    "slideshow": {
     "slide_type": "slide"
    }
   },
   "outputs": [
    {
     "data": {
      "text/plain": [
       "handle! (generic function with 2 methods)"
      ]
     },
     "execution_count": 14,
     "metadata": {},
     "output_type": "execute_result"
    }
   ],
   "source": [
    "handle!(collections, x::String) = (push!(collections, x))\n",
    "handle!(collections, x::Vector) = (append!(collections, x))"
   ]
  },
  {
   "cell_type": "code",
   "execution_count": 15,
   "metadata": {},
   "outputs": [],
   "source": [
    "collections = []\n",
    "for x in xs\n",
    "  handle!(collections, x)\n",
    "end"
   ]
  },
  {
   "cell_type": "code",
   "execution_count": 16,
   "metadata": {
    "slideshow": {
     "slide_type": "fragment"
    }
   },
   "outputs": [
    {
     "data": {
      "text/plain": [
       "7-element Array{Any,1}:\n",
       " \"123\" \n",
       " \"23\"  \n",
       " \"345\" \n",
       " \"1234\"\n",
       " \"456\" \n",
       " \"789\" \n",
       " \"567\" "
      ]
     },
     "execution_count": 16,
     "metadata": {},
     "output_type": "execute_result"
    }
   ],
   "source": [
    "collections"
   ]
  },
  {
   "cell_type": "markdown",
   "metadata": {
    "slideshow": {
     "slide_type": "slide"
    }
   },
   "source": [
    "## Parametric method"
   ]
  },
  {
   "cell_type": "markdown",
   "metadata": {},
   "source": [
    "聰明的設計讓 multiple dispatch 替你\"回答問題\""
   ]
  },
  {
   "cell_type": "code",
   "execution_count": 17,
   "metadata": {
    "slideshow": {
     "slide_type": "fragment"
    }
   },
   "outputs": [
    {
     "data": {
      "text/plain": [
       "same_type (generic function with 2 methods)"
      ]
     },
     "execution_count": 17,
     "metadata": {},
     "output_type": "execute_result"
    }
   ],
   "source": [
    "same_type(x::T, y::T) where {T} = true\n",
    "same_type(x, y) = false"
   ]
  },
  {
   "cell_type": "code",
   "execution_count": 18,
   "metadata": {
    "slideshow": {
     "slide_type": "fragment"
    }
   },
   "outputs": [
    {
     "data": {
      "text/plain": [
       "true"
      ]
     },
     "execution_count": 18,
     "metadata": {},
     "output_type": "execute_result"
    }
   ],
   "source": [
    "same_type(1, 2)  # 兩者型別相同"
   ]
  },
  {
   "cell_type": "code",
   "execution_count": 19,
   "metadata": {
    "slideshow": {
     "slide_type": "fragment"
    }
   },
   "outputs": [
    {
     "data": {
      "text/plain": [
       "false"
      ]
     },
     "execution_count": 19,
     "metadata": {},
     "output_type": "execute_result"
    }
   ],
   "source": [
    "same_type(1, 2.0)  # 兩者型別不同"
   ]
  },
  {
   "cell_type": "markdown",
   "metadata": {
    "slideshow": {
     "slide_type": "slide"
    }
   },
   "source": [
    "### *Example*"
   ]
  },
  {
   "cell_type": "code",
   "execution_count": 20,
   "metadata": {},
   "outputs": [
    {
     "data": {
      "text/plain": [
       "concat (generic function with 1 method)"
      ]
     },
     "execution_count": 20,
     "metadata": {},
     "output_type": "execute_result"
    }
   ],
   "source": [
    "concat(v::Vector{T}, x::T) where {T} = [v..., x]"
   ]
  },
  {
   "cell_type": "code",
   "execution_count": 21,
   "metadata": {
    "slideshow": {
     "slide_type": "fragment"
    }
   },
   "outputs": [
    {
     "data": {
      "text/plain": [
       "4-element Array{Int64,1}:\n",
       " 1\n",
       " 2\n",
       " 3\n",
       " 4"
      ]
     },
     "execution_count": 21,
     "metadata": {},
     "output_type": "execute_result"
    }
   ],
   "source": [
    "concat([1, 2, 3], 4)"
   ]
  },
  {
   "cell_type": "code",
   "execution_count": 22,
   "metadata": {
    "slideshow": {
     "slide_type": "fragment"
    }
   },
   "outputs": [
    {
     "ename": "MethodError",
     "evalue": "MethodError: no method matching concat(::Array{Int64,1}, ::Float64)\nClosest candidates are:\n  concat(::Array{T,1}, !Matched::T) where T at In[20]:1",
     "output_type": "error",
     "traceback": [
      "MethodError: no method matching concat(::Array{Int64,1}, ::Float64)\nClosest candidates are:\n  concat(::Array{T,1}, !Matched::T) where T at In[20]:1",
      "",
      "Stacktrace:",
      " [1] top-level scope at In[22]:1"
     ]
    }
   ],
   "source": [
    "concat([1, 2, 3], 4.0)"
   ]
  },
  {
   "cell_type": "markdown",
   "metadata": {
    "slideshow": {
     "slide_type": "slide"
    }
   },
   "source": [
    "### 在方法上 **加上限制**"
   ]
  },
  {
   "cell_type": "code",
   "execution_count": 23,
   "metadata": {},
   "outputs": [
    {
     "data": {
      "text/plain": [
       "foobar (generic function with 1 method)"
      ]
     },
     "execution_count": 23,
     "metadata": {},
     "output_type": "execute_result"
    }
   ],
   "source": [
    "foobar(a, b, x::T) where {T <: Integer} = (a, b, x)  # 限制參數型別"
   ]
  },
  {
   "cell_type": "code",
   "execution_count": 24,
   "metadata": {
    "slideshow": {
     "slide_type": "fragment"
    }
   },
   "outputs": [
    {
     "data": {
      "text/plain": [
       "(1, 2, 3)"
      ]
     },
     "execution_count": 24,
     "metadata": {},
     "output_type": "execute_result"
    }
   ],
   "source": [
    "foobar(1, 2, 3)"
   ]
  },
  {
   "cell_type": "code",
   "execution_count": 25,
   "metadata": {
    "slideshow": {
     "slide_type": "fragment"
    }
   },
   "outputs": [
    {
     "data": {
      "text/plain": [
       "(1, 2.0, 3)"
      ]
     },
     "execution_count": 25,
     "metadata": {},
     "output_type": "execute_result"
    }
   ],
   "source": [
    "foobar(1, 2.0, 3)"
   ]
  },
  {
   "cell_type": "code",
   "execution_count": 26,
   "metadata": {
    "slideshow": {
     "slide_type": "fragment"
    }
   },
   "outputs": [
    {
     "ename": "MethodError",
     "evalue": "MethodError: no method matching foobar(::Int64, ::Float64, ::Float64)\nClosest candidates are:\n  foobar(::Any, ::Any, !Matched::T<:Integer) where T<:Integer at In[23]:1",
     "output_type": "error",
     "traceback": [
      "MethodError: no method matching foobar(::Int64, ::Float64, ::Float64)\nClosest candidates are:\n  foobar(::Any, ::Any, !Matched::T<:Integer) where T<:Integer at In[23]:1",
      "",
      "Stacktrace:",
      " [1] top-level scope at In[26]:1"
     ]
    }
   ],
   "source": [
    "foobar(1, 2.0, 3.0)"
   ]
  },
  {
   "cell_type": "markdown",
   "metadata": {
    "slideshow": {
     "slide_type": "slide"
    }
   },
   "source": [
    "## 多型"
   ]
  },
  {
   "cell_type": "markdown",
   "metadata": {},
   "source": [
    "多型，是在物件導向風格裏面很重要的特性，讓子型別可以繼承父型別的方法，方法會依據不同的子型別有不同的行為\n",
    "\n",
    "多型擁有更廣泛的意思：**方法會依據不同的子型別有不同的行為**\n",
    "\n",
    "也就是說，多型不只是單單放在物件導向的繼承上，只要符合 **同樣的函式會依據不同型別而有不同行為** 就算"
   ]
  },
  {
   "cell_type": "markdown",
   "metadata": {
    "slideshow": {
     "slide_type": "slide"
    }
   },
   "source": [
    "若是依據維基百科的定義：\n",
    "\n",
    "> *Polymorphism is the provision of a single interface to entities of different types.*\n",
    "\n",
    "> *多型為不同型別的實體提供了單一介面*\n",
    "\n",
    "說到底，多型就是為了要 ***在同樣的介面上提供不同的實作***。"
   ]
  },
  {
   "cell_type": "markdown",
   "metadata": {
    "slideshow": {
     "slide_type": "slide"
    }
   },
   "source": [
    "### 參數多型"
   ]
  },
  {
   "cell_type": "markdown",
   "metadata": {},
   "source": [
    "參數多型不考慮確切的型別，而是提供一種行為框架，直接定義一個函式，然後依據使用時傳入的型別做操作\n",
    "\n",
    "Julia 本身就是採用這樣的方式。\n",
    "\n",
    "**泛型（generic programming）**，就是參數多型的一種表現方式\n",
    "\n",
    "在其他語言中有這樣的 generic functions 就是參數多型的精隨了"
   ]
  },
  {
   "cell_type": "markdown",
   "metadata": {
    "slideshow": {
     "slide_type": "slide"
    }
   },
   "source": [
    "## Empty generic function"
   ]
  },
  {
   "cell_type": "markdown",
   "metadata": {},
   "source": [
    "***有的時候你需要定義method的介面，但不定義實作***\n",
    "\n",
    "這樣介面跟實作分離的使用情境時常用在增加程式碼的可讀性上\n",
    "\n",
    "你可以這樣寫："
   ]
  },
  {
   "cell_type": "code",
   "execution_count": 27,
   "metadata": {
    "slideshow": {
     "slide_type": "fragment"
    }
   },
   "outputs": [
    {
     "data": {
      "text/plain": [
       "generic (generic function with 0 methods)"
      ]
     },
     "execution_count": 27,
     "metadata": {},
     "output_type": "execute_result"
    }
   ],
   "source": [
    "function generic  # 沒有參數，作為一個佔位符使用\n",
    "end"
   ]
  },
  {
   "cell_type": "code",
   "execution_count": 28,
   "metadata": {
    "slideshow": {
     "slide_type": "fragment"
    }
   },
   "outputs": [
    {
     "data": {
      "text/html": [
       "0 methods for generic function <b>generic</b>:<ul></ul>"
      ],
      "text/plain": [
       "# 0 methods for generic function \"generic\":"
      ]
     },
     "execution_count": 28,
     "metadata": {},
     "output_type": "execute_result"
    }
   ],
   "source": [
    "methods(generic)"
   ]
  },
  {
   "cell_type": "code",
   "execution_count": 29,
   "metadata": {
    "slideshow": {
     "slide_type": "slide"
    }
   },
   "outputs": [
    {
     "ename": "MethodError",
     "evalue": "MethodError: no method matching generic()",
     "output_type": "error",
     "traceback": [
      "MethodError: no method matching generic()",
      "",
      "Stacktrace:",
      " [1] top-level scope at In[29]:1"
     ]
    }
   ],
   "source": [
    "generic()"
   ]
  },
  {
   "cell_type": "markdown",
   "metadata": {
    "slideshow": {
     "slide_type": "slide"
    }
   },
   "source": [
    "## Integrate with design pattern: observer pattern"
   ]
  },
  {
   "cell_type": "code",
   "execution_count": 30,
   "metadata": {},
   "outputs": [
    {
     "data": {
      "text/plain": [
       "notify_subscriber (generic function with 0 methods)"
      ]
     },
     "execution_count": 30,
     "metadata": {},
     "output_type": "execute_result"
    }
   ],
   "source": [
    "abstract type Subscriber end\n",
    "\n",
    "function update end\n",
    "\n",
    "abstract type Publisher end\n",
    "\n",
    "function register_subscriber! end\n",
    "function remove_subscriber! end\n",
    "function notify_subscriber end"
   ]
  },
  {
   "cell_type": "code",
   "execution_count": 31,
   "metadata": {
    "slideshow": {
     "slide_type": "slide"
    }
   },
   "outputs": [
    {
     "data": {
      "text/plain": [
       "notify_subscriber (generic function with 1 method)"
      ]
     },
     "execution_count": 31,
     "metadata": {},
     "output_type": "execute_result"
    }
   ],
   "source": [
    "struct Customer <: Subscriber\n",
    "    name::String\n",
    "end\n",
    "\n",
    "update(c::Customer, x) = println(\"$(c.name) got $x.\")\n",
    "\n",
    "struct NewspaperPublisher <: Publisher\n",
    "    subscribers::Vector{Subscriber}\n",
    "    NewspaperPublisher() = new(Subscriber[])\n",
    "end\n",
    "\n",
    "function register_subscriber!(np::NewspaperPublisher, s::Subscriber)\n",
    "    push!(np.subscribers, s)\n",
    "end\n",
    "\n",
    "function remove_subscriber!(np::NewspaperPublisher, s::Subscriber)\n",
    "    pop!(np.subscribers, s)\n",
    "end\n",
    "\n",
    "function notify_subscriber(np::NewspaperPublisher)\n",
    "    for s in np.subscribers\n",
    "        update(s, \"newspaper\")\n",
    "    end\n",
    "end"
   ]
  },
  {
   "cell_type": "code",
   "execution_count": 32,
   "metadata": {
    "slideshow": {
     "slide_type": "slide"
    }
   },
   "outputs": [
    {
     "data": {
      "text/plain": [
       "NewspaperPublisher(Subscriber[])"
      ]
     },
     "execution_count": 32,
     "metadata": {},
     "output_type": "execute_result"
    }
   ],
   "source": [
    "np = NewspaperPublisher()"
   ]
  },
  {
   "cell_type": "code",
   "execution_count": 33,
   "metadata": {},
   "outputs": [
    {
     "data": {
      "text/plain": [
       "Customer(\"C\")"
      ]
     },
     "execution_count": 33,
     "metadata": {},
     "output_type": "execute_result"
    }
   ],
   "source": [
    "a = Customer(\"A\")\n",
    "b = Customer(\"B\")\n",
    "c = Customer(\"C\")"
   ]
  },
  {
   "cell_type": "code",
   "execution_count": 34,
   "metadata": {
    "slideshow": {
     "slide_type": "slide"
    }
   },
   "outputs": [
    {
     "data": {
      "text/plain": [
       "3-element Array{Subscriber,1}:\n",
       " Customer(\"A\")\n",
       " Customer(\"B\")\n",
       " Customer(\"C\")"
      ]
     },
     "execution_count": 34,
     "metadata": {},
     "output_type": "execute_result"
    }
   ],
   "source": [
    "register_subscriber!(np, a)\n",
    "register_subscriber!(np, b)\n",
    "register_subscriber!(np, c)"
   ]
  },
  {
   "cell_type": "code",
   "execution_count": 35,
   "metadata": {
    "slideshow": {
     "slide_type": "fragment"
    }
   },
   "outputs": [
    {
     "name": "stdout",
     "output_type": "stream",
     "text": [
      "A got newspaper.\n",
      "B got newspaper.\n",
      "C got newspaper.\n"
     ]
    }
   ],
   "source": [
    "notify_subscriber(np)"
   ]
  },
  {
   "cell_type": "markdown",
   "metadata": {
    "slideshow": {
     "slide_type": "slide"
    }
   },
   "source": [
    "## Q&A"
   ]
  },
  {
   "cell_type": "code",
   "execution_count": null,
   "metadata": {},
   "outputs": [],
   "source": []
  }
 ],
 "metadata": {
  "kernelspec": {
   "display_name": "Julia 1.0.0",
   "language": "julia",
   "name": "julia-1.0"
  },
  "language_info": {
   "file_extension": ".jl",
   "mimetype": "application/julia",
   "name": "julia",
   "version": "1.0.0"
  }
 },
 "nbformat": 4,
 "nbformat_minor": 2
}
